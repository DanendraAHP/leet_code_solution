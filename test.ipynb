{
 "cells": [
  {
   "cell_type": "code",
   "execution_count": 9,
   "metadata": {},
   "outputs": [
    {
     "data": {
      "text/plain": [
       "'cba'"
      ]
     },
     "execution_count": 9,
     "metadata": {},
     "output_type": "execute_result"
    }
   ],
   "source": [
    "s ='abca'\n",
    "''.join(set(s))"
   ]
  },
  {
   "cell_type": "code",
   "execution_count": 11,
   "metadata": {},
   "outputs": [
    {
     "data": {
      "text/plain": [
       "(3, 4)"
      ]
     },
     "execution_count": 11,
     "metadata": {},
     "output_type": "execute_result"
    }
   ],
   "source": [
    "len(set(s)), len(s)"
   ]
  },
  {
   "cell_type": "code",
   "execution_count": 1,
   "metadata": {},
   "outputs": [],
   "source": [
    "a = 0\n",
    "while a>0:\n",
    "    print('inside loop')"
   ]
  },
  {
   "cell_type": "code",
   "execution_count": 8,
   "metadata": {},
   "outputs": [
    {
     "data": {
      "text/plain": [
       "(-3, 9)"
      ]
     },
     "execution_count": 8,
     "metadata": {},
     "output_type": "execute_result"
    }
   ],
   "source": [
    "s=-21\n",
    "s//10, s%10"
   ]
  },
  {
   "cell_type": "code",
   "execution_count": 11,
   "metadata": {},
   "outputs": [
    {
     "data": {
      "text/plain": [
       "2147483647"
      ]
     },
     "execution_count": 11,
     "metadata": {},
     "output_type": "execute_result"
    }
   ],
   "source": [
    "2**31-1"
   ]
  },
  {
   "cell_type": "code",
   "execution_count": null,
   "metadata": {},
   "outputs": [],
   "source": [
    "1534236469 2.147.483.647"
   ]
  },
  {
   "cell_type": "code",
   "execution_count": 15,
   "metadata": {},
   "outputs": [],
   "source": [
    "class Solution:\n",
    "    def myAtoi(self, s: str) -> int:\n",
    "        #for blank space\n",
    "        if len(s)==0:\n",
    "            return 0\n",
    "        s_int = ''\n",
    "        #step 1 leave any leading whitespaces\n",
    "        while s[0]==' ':\n",
    "            s = s[1:]\n",
    "        # step 2 signedness\n",
    "        is_negative = s[0]=='-'\n",
    "        if is_negative:\n",
    "            s = s[1:]\n",
    "        # step 3 conversion\n",
    "        for char in s:\n",
    "            if char==\"0\":\n",
    "                continue\n",
    "            if char.isnumeric():\n",
    "                s_int+=char\n",
    "            else:\n",
    "                break\n",
    "        if s_int==\"\":\n",
    "            return 0\n",
    "        else:\n",
    "            s_int = int(s_int)\n",
    "            s_int = -1*s_int if is_negative else s_int\n",
    "            #step 4 rounding\n",
    "            s_int = s_int if s_int<2**31-1 else 2**31-1\n",
    "            s_int = s_int if s_int>-2**31 else -2**31\n",
    "            return s_int\n",
    "def main():\n",
    "    # read the input\n",
    "    txt = ''\n",
    "    #invoke the solution\n",
    "    s = Solution()\n",
    "    n = s.myAtoi(txt)\n",
    "    print(n)"
   ]
  },
  {
   "cell_type": "code",
   "execution_count": 17,
   "metadata": {},
   "outputs": [
    {
     "data": {
      "text/plain": [
       "0"
      ]
     },
     "execution_count": 17,
     "metadata": {},
     "output_type": "execute_result"
    }
   ],
   "source": [
    "s=''\n",
    "len(s)"
   ]
  },
  {
   "cell_type": "code",
   "execution_count": 16,
   "metadata": {},
   "outputs": [
    {
     "ename": "IndexError",
     "evalue": "string index out of range",
     "output_type": "error",
     "traceback": [
      "\u001b[1;31m---------------------------------------------------------------------------\u001b[0m",
      "\u001b[1;31mIndexError\u001b[0m                                Traceback (most recent call last)",
      "Cell \u001b[1;32mIn[16], line 1\u001b[0m\n\u001b[1;32m----> 1\u001b[0m main()\n",
      "Cell \u001b[1;32mIn[15], line 33\u001b[0m, in \u001b[0;36mmain\u001b[1;34m()\u001b[0m\n\u001b[0;32m     31\u001b[0m \u001b[38;5;66;03m#invoke the solution\u001b[39;00m\n\u001b[0;32m     32\u001b[0m s \u001b[38;5;241m=\u001b[39m Solution()\n\u001b[1;32m---> 33\u001b[0m n \u001b[38;5;241m=\u001b[39m s\u001b[38;5;241m.\u001b[39mmyAtoi(txt)\n\u001b[0;32m     34\u001b[0m \u001b[38;5;28mprint\u001b[39m(n)\n",
      "Cell \u001b[1;32mIn[15], line 5\u001b[0m, in \u001b[0;36mSolution.myAtoi\u001b[1;34m(self, s)\u001b[0m\n\u001b[0;32m      3\u001b[0m s_int \u001b[38;5;241m=\u001b[39m \u001b[38;5;124m'\u001b[39m\u001b[38;5;124m'\u001b[39m\n\u001b[0;32m      4\u001b[0m \u001b[38;5;66;03m#step 1 leave any leading whitespaces\u001b[39;00m\n\u001b[1;32m----> 5\u001b[0m \u001b[38;5;28;01mwhile\u001b[39;00m s[\u001b[38;5;241m0\u001b[39m]\u001b[38;5;241m==\u001b[39m\u001b[38;5;124m'\u001b[39m\u001b[38;5;124m \u001b[39m\u001b[38;5;124m'\u001b[39m:\n\u001b[0;32m      6\u001b[0m     s \u001b[38;5;241m=\u001b[39m s[\u001b[38;5;241m1\u001b[39m:]\n\u001b[0;32m      7\u001b[0m \u001b[38;5;66;03m# step 2 signedness\u001b[39;00m\n",
      "\u001b[1;31mIndexError\u001b[0m: string index out of range"
     ]
    }
   ],
   "source": [
    "main()"
   ]
  }
 ],
 "metadata": {
  "kernelspec": {
   "display_name": "base",
   "language": "python",
   "name": "python3"
  },
  "language_info": {
   "codemirror_mode": {
    "name": "ipython",
    "version": 3
   },
   "file_extension": ".py",
   "mimetype": "text/x-python",
   "name": "python",
   "nbconvert_exporter": "python",
   "pygments_lexer": "ipython3",
   "version": "3.11.7"
  }
 },
 "nbformat": 4,
 "nbformat_minor": 2
}
